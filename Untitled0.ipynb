{
  "nbformat": 4,
  "nbformat_minor": 0,
  "metadata": {
    "colab": {
      "provenance": [],
      "authorship_tag": "ABX9TyPPd3+FNBrZg2CPHWQkaLt1",
      "include_colab_link": true
    },
    "kernelspec": {
      "name": "python3",
      "display_name": "Python 3"
    },
    "language_info": {
      "name": "python"
    }
  },
  "cells": [
    {
      "cell_type": "markdown",
      "metadata": {
        "id": "view-in-github",
        "colab_type": "text"
      },
      "source": [
        "<a href=\"https://colab.research.google.com/github/Cristianccl/practica_estructura_secuenciales_202520/blob/main/Untitled0.ipynb\" target=\"_parent\"><img src=\"https://colab.research.google.com/assets/colab-badge.svg\" alt=\"Open In Colab\"/></a>"
      ]
    },
    {
      "cell_type": "markdown",
      "source": [
        "# Ejercicios de parctica con estrucuctura secuenciales\n",
        "\n",
        "curso: Fundamentos de Programacion\n",
        "\n",
        "Presentado por: Cristian Camilo Cordero Lopez\n",
        "\n",
        "Email: cristian.cordero@upb.edu.co\n",
        "\n",
        "Fecha: 5 de Septiembre de 2025"
      ],
      "metadata": {
        "id": "TmxFejv3SvKb"
      }
    },
    {
      "cell_type": "markdown",
      "source": [
        "# Informacion personal\n",
        "diseña un programa q muestre la sigiente informacion\n",
        "- Tu nombre\n",
        "- Tu direccion,con ciudad, estado y codigo postal\n",
        "- Tu numero telefonico\n",
        "- TU especializacion universitaria\n",
        "\n",
        "#Pseudocódigo\n",
        "\n",
        "```\n",
        "Program Personal_info\n",
        "start\n",
        "  Declare string name,Address,city,state,zip,phone,career\n",
        "\n",
        "  Display \"Programa de informacion personal\"\n",
        "  Display \"Ingrese su nombre: \"\n",
        "  Input  name\n",
        "  Display \"Ingrese su direccion: \"\n",
        "  Input address\n",
        "  Display \"Ingrese su ciudad: \"\n",
        "  Input  city\n",
        "  Display \" Ingrese su codigo postal: \"\n",
        "  Input zip\n",
        "  Display \"ingrese su numero de telefono: \"\n",
        "  Input phone\n",
        "  Display \"Ingrese su carrera: \"\n",
        "  Input carrer\n",
        "\n",
        "  Display \"Informacion personal: \"\n",
        "  Display \"Nombre: ; name\n",
        "  Display \"direccion: ; address\n",
        "  Display \"Direccion: ; city\n",
        "  Display \"ciudad: ; state\n",
        "  Display \"estado: ; zip\n",
        "  Display \"codigo postal: ; phone\n",
        "  Display \"carrera: ; carerr\n",
        "\n",
        "\n",
        "end\n",
        "\n",
        "```"
      ],
      "metadata": {
        "id": "C0Jqf-h2XLlX"
      }
    },
    {
      "cell_type": "code",
      "source": [
        "#Program Personal_info\n",
        "\n",
        "print (\"Programa de informacion personal\")\n",
        "\n",
        "#variable\n",
        "name = input(\"Ingrese su nombre: \")\n",
        "addres = input(\"Ingrese su direccion: \")\n",
        "city = input(\"Ingrese su ciudad: \")\n",
        "state = input(\"ingrese su estado\")\n",
        "zip = input (\" Ingrese su codigo postal: \" )\n",
        "phone = input(\"ingrese su numero de telefono: \")\n",
        "carrer = input(\"Ingrese su carrera: \")\n",
        "\n",
        "print(\"Informacion personal: \")\n",
        "print(\"Nombre: ; name\")\n",
        "print(\"direccion: ; address\")\n",
        "print(\"Direccion: ; city\")\n",
        "print(\"ciudad: ; state\")\n",
        "print(\"estado: ; zip\")\n",
        "print(\"codigo postal: ; phone\")\n",
        "print(\"carrera: ; carerr\")\n",
        "\n"
      ],
      "metadata": {
        "colab": {
          "base_uri": "https://localhost:8080/"
        },
        "id": "AtLnUvrkbw3r",
        "outputId": "efdbd296-2abe-4236-e092-b8c2fcc82b57"
      },
      "execution_count": 1,
      "outputs": [
        {
          "output_type": "stream",
          "name": "stdout",
          "text": [
            "Programa de informacion personal\n",
            "Ingrese su nombre: Cristian cordero\n",
            "Ingrese su direccion: diag 10 tranv 7\n",
            "Ingrese su ciudad: monteria\n",
            "ingrese su estadoColombia\n",
            " Ingrese su codigo postal: 00021\n",
            "ingrese su numero de telefono: 3212\n",
            "Ingrese su carrera: mecanica\n",
            "Informacion personal: \n",
            "Nombre: ; name\n",
            "direccion: ; address\n",
            "Direccion: ; city\n",
            "ciudad: ; state\n",
            "estado: ; zip\n",
            "codigo postal: ; phone\n",
            "carrera: ; carerr\n"
          ]
        }
      ]
    },
    {
      "cell_type": "markdown",
      "source": [],
      "metadata": {
        "id": "dOAeIJeAVUAv"
      }
    }
  ]
}